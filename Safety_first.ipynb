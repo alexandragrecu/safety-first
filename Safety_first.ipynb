{
  "nbformat": 4,
  "nbformat_minor": 0,
  "metadata": {
    "colab": {
      "name": "Safety first.ipynb",
      "provenance": [],
      "authorship_tag": "ABX9TyNTUa578rsmffgWsJLQdKCp",
      "include_colab_link": true
    },
    "kernelspec": {
      "name": "python3",
      "display_name": "Python 3"
    },
    "language_info": {
      "name": "python"
    }
  },
  "cells": [
    {
      "cell_type": "markdown",
      "metadata": {
        "id": "view-in-github",
        "colab_type": "text"
      },
      "source": [
        "<a href=\"https://colab.research.google.com/github/alexandragrecu/safety-first/blob/main/Safety_first.ipynb\" target=\"_parent\"><img src=\"https://colab.research.google.com/assets/colab-badge.svg\" alt=\"Open In Colab\"/></a>"
      ]
    },
    {
      "cell_type": "markdown",
      "source": [
        "# **Safety first: An analysis of UK major accidents in 2020 to reduce road fatalities**"
      ],
      "metadata": {
        "id": "k1oADWW3X2AT"
      }
    },
    {
      "cell_type": "markdown",
      "source": [
        "### 📖 BACKGROUND"
      ],
      "metadata": {
        "id": "253I8s5MYkKb"
      }
    },
    {
      "cell_type": "markdown",
      "source": [
        "We work for the road safety team within the department of transport, and the deparment is looking into how they can reduce the number of serious accidents.\n",
        "\n",
        "It is important to notice that the safety team classes serious accidents as fatal accidents involving 3+ casualties.\n",
        "\n",
        "The department is trying to learn more about the characteristics of these accidents, so they can brainstorm interventions that could lower the number of deaths.\n",
        "\n",
        "They have asked for our assistance with answering a number of questions."
      ],
      "metadata": {
        "id": "P-9luyjHY2bC"
      }
    },
    {
      "cell_type": "markdown",
      "source": [
        "### 💾 THE DATA"
      ],
      "metadata": {
        "id": "rgLF3FDbZkNJ"
      }
    },
    {
      "cell_type": "markdown",
      "source": [
        "We have two sources of information available:\n",
        "\n",
        "  - A dataset containing data on every accident that is reported. (This dataset has been published by the UK department for transport.)\n",
        "\n",
        "  - A lookup file for 2020's accidents. (This file contains a description of each of accidents' dataset columns and will be useful to correctly interpret the accidents' data.)"
      ],
      "metadata": {
        "id": "91tYjS0WZvi0"
      }
    },
    {
      "cell_type": "markdown",
      "source": [
        "### 📌 PROBLEM STATEMENT"
      ],
      "metadata": {
        "id": "SPptU6nAaUVT"
      }
    },
    {
      "cell_type": "markdown",
      "source": [
        "Our goal for this project is to create a report that answers the following questions:\n",
        "\n",
        "  1. What time of day and day of the week do most serious accidents happen?\n",
        "\n",
        "  2. Are there any patterns in the time of day / day of the week when serious accidents occur?\n",
        "\n",
        "  3. What characteristics stand out in serious accidents compared with other accidents?\n",
        "\n",
        "  4. On what areas would you recommend the planning team focus their brainstorming efforts to reduce serious accidents?\n",
        "\n",
        "Through data cleaning, analysis and visualization we will answer these questions in order to help our stakeholder to increase road safety by understanding when and how fatal accidents tend to happen and, consequently, take actions to prevent them and save lives."
      ],
      "metadata": {
        "id": "nU5d5o6nacRH"
      }
    },
    {
      "cell_type": "code",
      "execution_count": null,
      "metadata": {
        "id": "HcApgq2gXyCC"
      },
      "outputs": [],
      "source": [
        ""
      ]
    }
  ]
}